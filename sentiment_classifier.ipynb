{
  "nbformat": 4,
  "nbformat_minor": 0,
  "metadata": {
    "colab": {
      "provenance": [],
      "machine_shape": "hm"
    },
    "kernelspec": {
      "name": "python3",
      "display_name": "Python 3"
    },
    "language_info": {
      "name": "python"
    }
  },
  "cells": [
    {
      "cell_type": "code",
      "execution_count": 26,
      "metadata": {
        "colab": {
          "base_uri": "https://localhost:8080/"
        },
        "id": "YgFnfnFJNX5V",
        "outputId": "35c4c5db-6e8d-4bd5-dd22-b48365884806"
      },
      "outputs": [
        {
          "output_type": "stream",
          "name": "stdout",
          "text": [
            "--2025-01-27 16:19:03--  https://raw.githubusercontent.com/cbannard/lela60331_24-25/refs/heads/main/coursework/Compiled_Reviews.txt\n",
            "Resolving raw.githubusercontent.com (raw.githubusercontent.com)... 185.199.108.133, 185.199.111.133, 185.199.110.133, ...\n",
            "Connecting to raw.githubusercontent.com (raw.githubusercontent.com)|185.199.108.133|:443... connected.\n",
            "HTTP request sent, awaiting response... 200 OK\n",
            "Length: 22322605 (21M) [text/plain]\n",
            "Saving to: ‘Compiled_Reviews.txt.1’\n",
            "\n",
            "Compiled_Reviews.tx 100%[===================>]  21.29M  --.-KB/s    in 0.07s   \n",
            "\n",
            "2025-01-27 16:19:04 (319 MB/s) - ‘Compiled_Reviews.txt.1’ saved [22322605/22322605]\n",
            "\n"
          ]
        }
      ],
      "source": [
        "!wget https://raw.githubusercontent.com/cbannard/lela60331_24-25/refs/heads/main/coursework/Compiled_Reviews.txt"
      ]
    },
    {
      "cell_type": "code",
      "source": [
        "import re\n",
        "import numpy as np\n",
        "from collections import Counter"
      ],
      "metadata": {
        "id": "x8RWfu6hNxxU"
      },
      "execution_count": 27,
      "outputs": []
    },
    {
      "cell_type": "code",
      "source": [
        "# loading dataset\n",
        "reviews = []\n",
        "sentiment_ratings = []\n",
        "\n",
        "with open(\"Compiled_Reviews.txt\") as f:\n",
        "    for line in f.readlines()[1:]:\n",
        "        fields = line.rstrip().split('\\t')\n",
        "        reviews.append(fields[0])\n",
        "        sentiment_ratings.append(fields[1])\n",
        "\n",
        "# preprocessing\n",
        "def preprocess_text(text):\n",
        "    text = text.lower()\n",
        "    text = re.sub(r\"[^\\w\\s]\", \"\", text)\n",
        "    return text\n",
        "\n",
        "reviews = [preprocess_text(review) for review in reviews]"
      ],
      "metadata": {
        "id": "632GJdNsN12M"
      },
      "execution_count": 28,
      "outputs": []
    },
    {
      "cell_type": "code",
      "source": [
        "# tokenizing\n",
        "tokenized_reviews = [re.findall(r\"[^\\s]+\", review) for review in reviews]\n",
        "\n",
        "tokens = [token for review in tokenized_reviews for token in review]\n",
        "word_counts = Counter(tokens)\n",
        "\n",
        "# filtering vocabulary\n",
        "# frequency\n",
        "min_count = 5\n",
        "max_count = 0.8 * len(reviews)\n",
        "# length\n",
        "filtered_vocab = [word for word, count in word_counts.items() if min_count <= count <= max_count and len(word) > 3]\n",
        "\n",
        "print(f\"Filtered Vocabulary Size: {len(filtered_vocab)}\")"
      ],
      "metadata": {
        "colab": {
          "base_uri": "https://localhost:8080/"
        },
        "id": "IwJIociMOIgO",
        "outputId": "3484912b-8ec4-4b74-b4f8-3a5f003697c3"
      },
      "execution_count": 29,
      "outputs": [
        {
          "output_type": "stream",
          "name": "stdout",
          "text": [
            "Filtered Vocabulary Size: 20667\n"
          ]
        }
      ]
    },
    {
      "cell_type": "code",
      "source": [
        "# BOW matrix\n",
        "M_bow_filtered = np.zeros((len(reviews), len(filtered_vocab)))\n",
        "\n",
        "for i, review in enumerate(reviews):\n",
        "    tokens = set(re.findall(r\"[^\\s]+\", review))\n",
        "    for j, word in enumerate(filtered_vocab):\n",
        "        if word in tokens:\n",
        "            M_bow_filtered[i, j] = 1\n",
        "\n",
        "print(f\"Shape of Filtered Bag-of-Words Matrix: {M_bow_filtered.shape}\")\n",
        "print(f\"Sample Row (First Review): {M_bow_filtered[0]}\")"
      ],
      "metadata": {
        "colab": {
          "base_uri": "https://localhost:8080/"
        },
        "id": "CokSb-riPqAA",
        "outputId": "b8c85dcf-e891-407c-ddde-6697548ca9d8"
      },
      "execution_count": 30,
      "outputs": [
        {
          "output_type": "stream",
          "name": "stdout",
          "text": [
            "Shape of Filtered Bag-of-Words Matrix: (36548, 20667)\n",
            "Sample Row (First Review): [1. 1. 1. ... 0. 0. 0.]\n"
          ]
        }
      ]
    },
    {
      "cell_type": "code",
      "source": [
        "# train-test split\n",
        "train_indices = np.random.choice(len(reviews), int(len(reviews) * 0.8), replace=False)\n",
        "test_indices = list(set(range(len(reviews))) - set(train_indices))\n",
        "\n",
        "M_train_bow = np.array([M_bow_filtered[i] for i in train_indices])\n",
        "M_test_bow = np.array([M_bow_filtered[i] for i in test_indices])\n",
        "\n",
        "# sentiment labels\n",
        "y_train_sentiment = np.array([1 if sentiment_ratings[i] == \"positive\" else 0 for i in train_indices])\n",
        "y_test_sentiment = np.array([1 if sentiment_ratings[i] == \"positive\" else 0 for i in test_indices])"
      ],
      "metadata": {
        "id": "yLU4Z_9oQyzW"
      },
      "execution_count": null,
      "outputs": []
    },
    {
      "cell_type": "code",
      "source": [
        "num_features = M_train_bow.shape[1]\n",
        "weights = np.random.rand(num_features)\n",
        "bias = np.random.rand(1)\n",
        "n_iters = 5000\n",
        "lr = 0.2\n",
        "losses = []\n",
        "\n",
        "# training loop\n",
        "for i in range(n_iters):\n",
        "    z = np.dot(M_train_bow, weights) + bias\n",
        "    q = 1 / (1 + np.exp(-z))\n",
        "    loss = -np.mean(y_train_sentiment * np.log(q + 1e-9) + (1 - y_train_sentiment) * np.log(1 - q + 1e-9))\n",
        "    losses.append(loss)\n",
        "    dw = np.dot(M_train_bow.T, (q - y_train_sentiment)) / len(y_train_sentiment)\n",
        "    db = np.mean(q - y_train_sentiment)\n",
        "    weights -= lr * dw\n",
        "    bias -= lr * db\n",
        "\n",
        "    if (i + 1) % 100 == 0:\n",
        "        print(f\"Iteration {i+1}/{n_iters}, Loss: {loss:.4f}\")\n",
        "\n",
        "import matplotlib.pyplot as plt\n",
        "plt.plot(range(1, len(losses) + 1), losses)\n",
        "plt.xlabel(\"Iteration\")\n",
        "plt.ylabel(\"Loss\")\n",
        "plt.title(\"Logistic Regression Loss Curve\")\n",
        "plt.show()"
      ],
      "metadata": {
        "colab": {
          "base_uri": "https://localhost:8080/",
          "height": 1000
        },
        "id": "5kmrc50BQ7aJ",
        "outputId": "d5e2e0af-9bec-4d7e-cea1-4d7bfe0fcbbc"
      },
      "execution_count": 34,
      "outputs": [
        {
          "output_type": "stream",
          "name": "stdout",
          "text": [
            "Iteration 100/5000, Loss: 2.2378\n",
            "Iteration 200/5000, Loss: 1.7337\n",
            "Iteration 300/5000, Loss: 1.4664\n",
            "Iteration 400/5000, Loss: 1.3125\n",
            "Iteration 500/5000, Loss: 1.2083\n",
            "Iteration 600/5000, Loss: 1.1287\n",
            "Iteration 700/5000, Loss: 1.0643\n",
            "Iteration 800/5000, Loss: 1.0102\n",
            "Iteration 900/5000, Loss: 0.9637\n",
            "Iteration 1000/5000, Loss: 0.9230\n",
            "Iteration 1100/5000, Loss: 0.8868\n",
            "Iteration 1200/5000, Loss: 0.8544\n",
            "Iteration 1300/5000, Loss: 0.8251\n",
            "Iteration 1400/5000, Loss: 0.7985\n",
            "Iteration 1500/5000, Loss: 0.7743\n",
            "Iteration 1600/5000, Loss: 0.7522\n",
            "Iteration 1700/5000, Loss: 0.7320\n",
            "Iteration 1800/5000, Loss: 0.7133\n",
            "Iteration 1900/5000, Loss: 0.6959\n",
            "Iteration 2000/5000, Loss: 0.6797\n",
            "Iteration 2100/5000, Loss: 0.6647\n",
            "Iteration 2200/5000, Loss: 0.6506\n",
            "Iteration 2300/5000, Loss: 0.6374\n",
            "Iteration 2400/5000, Loss: 0.6251\n",
            "Iteration 2500/5000, Loss: 0.6135\n",
            "Iteration 2600/5000, Loss: 0.6026\n",
            "Iteration 2700/5000, Loss: 0.5923\n",
            "Iteration 2800/5000, Loss: 0.5825\n",
            "Iteration 2900/5000, Loss: 0.5733\n",
            "Iteration 3000/5000, Loss: 0.5645\n",
            "Iteration 3100/5000, Loss: 0.5562\n",
            "Iteration 3200/5000, Loss: 0.5483\n",
            "Iteration 3300/5000, Loss: 0.5407\n",
            "Iteration 3400/5000, Loss: 0.5335\n",
            "Iteration 3500/5000, Loss: 0.5266\n",
            "Iteration 3600/5000, Loss: 0.5200\n",
            "Iteration 3700/5000, Loss: 0.5138\n",
            "Iteration 3800/5000, Loss: 0.5077\n",
            "Iteration 3900/5000, Loss: 0.5020\n",
            "Iteration 4000/5000, Loss: 0.4964\n",
            "Iteration 4100/5000, Loss: 0.4911\n",
            "Iteration 4200/5000, Loss: 0.4860\n",
            "Iteration 4300/5000, Loss: 0.4810\n",
            "Iteration 4400/5000, Loss: 0.4762\n",
            "Iteration 4500/5000, Loss: 0.4716\n",
            "Iteration 4600/5000, Loss: 0.4672\n",
            "Iteration 4700/5000, Loss: 0.4628\n",
            "Iteration 4800/5000, Loss: 0.4587\n",
            "Iteration 4900/5000, Loss: 0.4546\n",
            "Iteration 5000/5000, Loss: 0.4506\n"
          ]
        },
        {
          "output_type": "display_data",
          "data": {
            "text/plain": [
              "<Figure size 640x480 with 1 Axes>"
            ],
            "image/png": "[encoded data removed]"
          },
          "metadata": {}
        }
      ]
    },
    {
      "cell_type": "code",
      "source": [
        "# predictions\n",
        "z = M_test_bow.dot(weights) + bias\n",
        "q = 1 / (1 + np.exp(-z))\n",
        "\n",
        "y_test_pred = [int(prob > 0.5) for prob in q]\n",
        "\n",
        "y_test = y_test_sentiment\n",
        "\n",
        "acc_test = [int(yp == y_test[s]) for s, yp in enumerate(y_test_pred)]\n",
        "accuracy = sum(acc_test) / len(acc_test)\n",
        "\n",
        "labels_test_pred = [\"positive\" if pred == 1 else \"negative\" for pred in y_test_pred]\n",
        "\n",
        "true_positives = sum([int(yp == \"positive\" and y_test[s] == 1) for s, yp in enumerate(labels_test_pred)])\n",
        "false_positives = sum([int(yp == \"positive\" and y_test[s] == 0) for s, yp in enumerate(labels_test_pred)])\n",
        "false_negatives = sum([int(yp == \"negative\" and y_test[s] == 1) for s, yp in enumerate(labels_test_pred)])\n",
        "true_negatives = sum([int(yp == \"negative\" and y_test[s] == 0) for s, yp in enumerate(labels_test_pred)])\n",
        "\n",
        "# precision and recall\n",
        "precision = true_positives / (true_positives + false_positives) if (true_positives + false_positives) > 0 else 0\n",
        "recall = true_positives / (true_positives + false_negatives) if (true_positives + false_negatives) > 0 else 0\n",
        "\n",
        "print(f'Accuracy: {accuracy:.4f}')\n",
        "print(f'Precision: {precision:.4f}')\n",
        "print(f'Recall: {recall:.4f}')"
      ],
      "metadata": {
        "colab": {
          "base_uri": "https://localhost:8080/"
        },
        "id": "l3lONNZuTI3-",
        "outputId": "11eb931b-1b72-4857-a006-9cf322552908"
      },
      "execution_count": 35,
      "outputs": [
        {
          "output_type": "stream",
          "name": "stdout",
          "text": [
            "Accuracy: 0.7963\n",
            "Precision: 0.8185\n",
            "Recall: 0.8308\n"
          ]
        }
      ]
    },
    {
      "cell_type": "code",
      "source": [
        "# analysing predictions\n",
        "for i in range(10):\n",
        "    review_index = test_indices[i]\n",
        "    review = reviews[review_index]\n",
        "    true_label = \"positive\" if y_test_sentiment[i] == 1 else \"negative\"\n",
        "    predicted_label = \"positive\" if y_test_pred[i] == 1 else \"negative\"\n",
        "    predicted_prob = q[i]\n",
        "\n",
        "    print(f\"Review: {review}\")\n",
        "    print(f\"True Sentiment: {true_label}\")\n",
        "    print(f\"Predicted Sentiment: {predicted_label} (Probability: {predicted_prob:.4f})\")\n",
        "    print()"
      ],
      "metadata": {
        "colab": {
          "base_uri": "https://localhost:8080/"
        },
        "id": "M5upejQyr3cI",
        "outputId": "2f07183a-3a0b-498f-f83b-e504dca18976"
      },
      "execution_count": 36,
      "outputs": [
        {
          "output_type": "stream",
          "name": "stdout",
          "text": [
            "Review: ok good cd im not suprised ok jaheim may not have the b best voice but his music is good and it goes will with the voice that he has  yes yall this album does use profanity but the songs actually have meanings i like that daddy thing song and like a dj this album looks at issues from a mans  point of view ya know weve heard the angry woman and how the man did t his and that now jaheim looks at it from a males view ok yall i know he is not the first one to do this but he did it well also this is a break from that  that is played on the radio\n",
            "True Sentiment: positive\n",
            "Predicted Sentiment: positive (Probability: 0.5198)\n",
            "\n",
            "Review: weve had the same set with christmas colors for three years  after the first year the whistle unit housed in the tender no longer worked  and about 10 minutes into running the second year the engine stopped  found that the engine was wired so that the power wire was rubbing a drive wheelthe engine is built with an underpowered motor such that a fairly high power setting is required to get it moving and then it runs fast there is only a tiny operating range before it will fly off on a curve  the engine is very top heavy and the curves have a tight radius to them  finally when taking the entire engine apart this year found the plastic gears flimsy badly supported and worn even with recommended oilingi still have some of my fathers lionel trains and these can still be counted on to run today the new stuff being sold is meant to be in the trash quickly\n",
            "True Sentiment: negative\n",
            "Predicted Sentiment: negative (Probability: 0.0237)\n",
            "\n",
            "Review: our daughter has had this product for quite some time and sad to say she hasnt touched it much at all this product does get alot of attention but it is more so with reassembly it does not swing it does not stay together i am constantly putting the legs back on and setting it back up and placing it with my daughters lil corner of little mommy playthings of all the items collected this one seems to be the one with the most problems we do have a variety of brands varying in price from cheaper to more expensive this one is by far the worst product we have yet purchased for her collection we have very few dolls that actually fit in the swing and the ones that do are too small for it it is also the smallest item my daughter has for her dolls that range in size we will not purchase another of these as well as recommend others to not purchase one if the price is too good to be true then you will only get what you paid for\n",
            "True Sentiment: negative\n",
            "Predicted Sentiment: negative (Probability: 0.4733)\n",
            "\n",
            "Review: this is a wonderful fun and soothing cd  it will relax children and parents will enjoy it even after the 100th listen  my husband is a musician and he loves both of the dan zanes cds we have  this will now be a gift i give to all my friends and family when they have a baby\n",
            "True Sentiment: positive\n",
            "Predicted Sentiment: positive (Probability: 0.9931)\n",
            "\n",
            "Review: dylanalong with late nobel prize winning czeslaw miloszmay someday be recognized as preeminent prophetpoet of decadent pm west miloszin tradition of towering european mysticgnostic intellectual poetphilosophersblakeswedenborg to solovyov and dotoyevskyranks amid a brotherhood summoning mankind to recollectioninreckoning and hopeful repentance where the good may be rescuedreaffirmed and rejuvenated for allamericas modern isaiah bobdylanzimmerman the jokermans jokerman is unique to the usaand the worldas postmodernisms johntheb prophet minstrelthe slow train is apocalypse nowcoming at warp speedour politicalcircus clown neroestweedle dees tweedle dumscontinue  fiddling as unions sundown auto defe of the usa feeds maws of moloch with aborted childrenorwellian schools and inbred culture of spiritualmoral and pseudointellectual manques who celebrate death as ultimate freedom and antisalvationinfidels pulls no punchesthe jokermans final battle with the man ofpeacehas begun pc neighborhood bullieshave begun worldwide assault from the middle east to local american classroomnew york based college board will now purview and judge every single advanced placement course syllabus for every high school in the united statesca2007cfapcentralcollegeboardcomthe academic comissariat is hereif you want to study real da vinci codelisten to americas recognizedbuthardly understoodi  igenius who deservesears to hearits too late for wilsons smile mcguinn may begoing nowhere againdylans master worksslow train coming  infidels are tocsin summons look into the firey furnacesee rich men woswithout any names who with concupiscent greedselflove and theftplot selfapotheosis and our ultimate enslavement777 nova super stars\n",
            "True Sentiment: positive\n",
            "Predicted Sentiment: positive (Probability: 0.9999)\n",
            "\n",
            "Review: my son was so excited for this toy  it was all he asked for on his 8th birthday we went out to the lake this week and then began our frustration  first there is no way to launch this 30 feet unless the wind gusts and the moon and planets are alligned then the safety bobber is so safe it doesnt even open when it hits the water but does cause such a large ripple in the lake that all fish are gone for hoursmy son set it down after a hour of frustration and had me trek to the car to grab is old trusty fishing rod that is not as colorful and plastic but does actually cast and catch fish dont get me wrong i think the rod is a gret idea but the people who designed it did a very slipshoddy job and i would warn anyone about spending money on it\n",
            "True Sentiment: negative\n",
            "Predicted Sentiment: negative (Probability: 0.0000)\n",
            "\n",
            "Review: i got this toy with my own money and i think i wasted it bigtime i play with the products more than the storei think it should have been bigger and come with more stuff i nd not have had all that crap painted on the card borad backs to the shelves and i think it should had come with plastic strong backs instead of card borad stuff i uassly take out the  card borad backs and make the store be a grocery store i would not buy this toy i would by the nursery playset insteadim 11 yrs ol\n",
            "True Sentiment: negative\n",
            "Predicted Sentiment: negative (Probability: 0.0612)\n",
            "\n",
            "Review: without a doubt the highlight is the dvd of the 1975 show in london  born to run the album had put him on the cover of time and newsweek the same week in october 1975 one of the very few times that has happened for a nonnews storythe publicity and hype generated by columbia records was so overwhelming that there was a backlash  nobody can be that goodso here we see his first show ever in the uk playing to an audience of professional critics and amateur skeptics people thinking hey rock and roll future this is the land of the beatles the rolling stones the who  who do you think youre kidding  no unknown kid from america deserves time and newsweekthe show begins in almost total darkness a piano softly plays then harmonica and a soft spotlight lights the kid from new jersey who sings thunder road accompanied by only piano  an unknown song at the time thunder road has become a springsteen classic  imho especially given the expectations it is a perfect understated openingthe dvd has the entire show including everything from the hard rock of shes the one and born to run the song to a much slowed down version of for you an underated sleeper on his first album greeting from asbuty park nj  bruce accompanies himself on the piano and i swear this version of for you is so beautiful it could be the scruffy new jersey kid channeling godany skeptic who walked out of this show thinking springsteen was merely hype has no ears no taste or was xenophobic  the show gives more than a big hint that this springsteen guy is for real as a songwriter and performer and that born to run especially is an extraodinary album there are only eight songs but none are fill  repeated listenings of the four corners of the album before cds backstreets jungleland thunder road and the title song are so good they become well addictive works of genius and lead to still more listening  tenth avenue freeze out night and especially shes the one could each be the centerpiece of almost any other album  even the whispered meeting across the river fits and helps the album become a coherent whole  the songs taken together are more than the sum of the partsas a footnote ill offer the opinion that bruce only wrote one other album that is as good as born to run and that is his next one darkness on the edge of town  everything he has released is good  a good bit of it is great but i dont think anything else matches born to run or darkness  i dont know if two other back to back albums this good have ever been releasedthe dvd of the show gives us a big early peek at the guy who would develop into rocks greatest performer  by 1985 he would be the biggest rock star in the world selling out multiple nights at football stadiumsthe remastered cd is nothing special to my ears  perhaps an audiophile could hear improvement  the dvd the making of born to run is interesting but will probably appeal mainly to fanshowever the dvd of the 1975 london show ought to appeal to anyone who likes bruce or rock  roll or showmanship or history  its a treat\n",
            "True Sentiment: positive\n",
            "Predicted Sentiment: positive (Probability: 0.9998)\n",
            "\n",
            "Review: nice cd cool beats songs like welcome to atlanta pick it u\n",
            "True Sentiment: positive\n",
            "Predicted Sentiment: positive (Probability: 0.8850)\n",
            "\n",
            "Review: people this is a brand new game out for the vsmile system  walmart has tuns of them in the store for 1999  dont waste your money  this store is lying\n",
            "True Sentiment: negative\n",
            "Predicted Sentiment: negative (Probability: 0.0467)\n",
            "\n"
          ]
        }
      ]
    }
  ]
}